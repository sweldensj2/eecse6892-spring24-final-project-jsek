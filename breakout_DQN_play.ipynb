{
 "cells": [
  {
   "cell_type": "code",
   "execution_count": 14,
   "metadata": {},
   "outputs": [],
   "source": [
    "import os\n",
    "# !{os.sys.executable} -m pip install gymnasium\n",
    "# !{os.sys.executable} -m pip install cmake \n",
    "# !{os.sys.executable} -m pip install ale-py\n",
    "# !{os.sys.executable} -m pip install atari-py\n",
    "# !{os.sys.executable} -m pip install Pillow\n",
    "# !{os.sys.executable} -m pip install ipython\n",
    "# !{os.sys.executable} -m pip install pygame\n",
    "# !{os.sys.executable} -m pip install torchsummary\n",
    "# !{os.sys.executable} -m pip install tensorboardX\n",
    "# !{os.sys.executable} -m pip install \"gymnasium[atari, accept-rom-licesnse]\"\n",
    "# !{os.sys.executable} -m pip install \"autorom[accept-rom-license]\"\n",
    "# !{os.sys.executable} -m pip install torch\n",
    "# !{os.sys.executable} -m pip install torchvision\n"
   ]
  },
  {
   "cell_type": "code",
   "execution_count": 15,
   "metadata": {},
   "outputs": [],
   "source": [
    "# Import useful packages\n",
    "\n",
    "import os\n",
    "import sys\n",
    "import gymnasium as gym\n",
    "import random\n",
    "import numpy as np\n",
    "\n",
    "import torch\n",
    "import torch.optim as optim\n",
    "import torch.nn.functional as F\n",
    "from torchinfo import summary\n",
    "\n",
    "from DQN_Model import DQN\n",
    "from DQN_Model_improved import DQN_improved\n",
    "from tensorboardX import SummaryWriter\n",
    "\n",
    "from collections import namedtuple, deque"
   ]
  },
  {
   "cell_type": "code",
   "execution_count": 16,
   "metadata": {},
   "outputs": [
    {
     "name": "stdout",
     "output_type": "stream",
     "text": [
      "device cuda\n"
     ]
    }
   ],
   "source": [
    "env_name = 'ALE/Breakout-v5'\n",
    "goal_score = 200\n",
    "device = torch.device(\"cuda\" if torch.cuda.is_available() else \"cpu\")\n",
    "print(\"device\", device)"
   ]
  },
  {
   "cell_type": "code",
   "execution_count": 17,
   "metadata": {},
   "outputs": [],
   "source": [
    "import pygame\n",
    "from pygame.locals import QUIT\n",
    "\n",
    "# Initialize pygame\n",
    "pygame.init()\n",
    "\n",
    "def play_game_with_model(model_name, load_best = False):\n",
    "    # Initialize the environment\n",
    "    env = gym.make(env_name, render_mode=\"human\")\n",
    "    state = env.reset()[0]\n",
    "    # state, _, _, _,_ = env.step(1)\n",
    "    done = False\n",
    "    \n",
    "    # Load the model\n",
    "    state_size = env.observation_space.low.size\n",
    "    action_size = env.action_space.n\n",
    "    loaded_online_net = DQN(state_size, action_size).to(device)\n",
    "    if( not load_best):\n",
    "        loaded_online_net.load_state_dict(torch.load(f'saved_models/breakout_DQN/{model_name}/online_net.pth', map_location = device))\n",
    "    else:\n",
    "        loaded_online_net.load_state_dict(torch.load(f'saved_models/breakout_DQN/{model_name}/best_online_net.pth', map_location = device))\n",
    "    \n",
    "    loaded_online_net.eval()  # Set the model to evaluation mode\n",
    "\n",
    "\n",
    "    # Initialize the display\n",
    "    # screen = pygame.display.set_mode((600, 400))\n",
    "    # pygame.display.set_caption(\"Breakout with DQN\")\n",
    "    # clock = pygame.time.Clock()\n",
    "    score = 0\n",
    "    while not done:\n",
    "        # for event in pygame.event.get():\n",
    "        #     if event.type == QUIT:\n",
    "        #         print(\"Quit\")\n",
    "        #         pygame.quit()\n",
    "        #         done = True\n",
    "        #         return\n",
    "\n",
    "        # Preprocess the state\n",
    "        # print(\"A\")\n",
    "        state_tensor = torch.Tensor(state).to(device)\n",
    "        state_tensor = torch.flatten(state_tensor)\n",
    "        # print(\"B\")\n",
    "        action = loaded_online_net.get_action(state_tensor)\n",
    "        \n",
    "        # Take the action in the environment\n",
    "        # print(\"C\")\n",
    "        next_state, reward, terminated, truncated,_ = env.step(action)\n",
    "        score += reward\n",
    "        done = terminated or truncated\n",
    "        print('\\r score: {:.2f} | done: {} | action: {}'.format(\n",
    "            score, done, action, ), end='')\n",
    "        if done:\n",
    "            state = env.reset()[0]\n",
    "            score = 0\n",
    "        else:\n",
    "            state = next_state\n",
    "        done = False\n",
    "        # print(\"D\")\n",
    "        # Render the environment\n",
    "        env.render()\n",
    "        \n",
    "        # Limit the frame rate\n",
    "        # clock.tick(60)\n",
    "\n",
    "    env.close()\n",
    "    # pygame.quit()\n",
    "\n",
    "\n"
   ]
  },
  {
   "cell_type": "code",
   "execution_count": 18,
   "metadata": {},
   "outputs": [
    {
     "name": "stdout",
     "output_type": "stream",
     "text": [
      " score: 0.00 | done: False | action: 3"
     ]
    }
   ],
   "source": [
    "play_game_with_model('train_DQN_pp_500e', load_best = True)"
   ]
  },
  {
   "cell_type": "code",
   "execution_count": null,
   "metadata": {},
   "outputs": [],
   "source": []
  }
 ],
 "metadata": {
  "kernelspec": {
   "display_name": "Python 3 (ipykernel)",
   "language": "python",
   "name": "python3"
  },
  "language_info": {
   "codemirror_mode": {
    "name": "ipython",
    "version": 3
   },
   "file_extension": ".py",
   "mimetype": "text/x-python",
   "name": "python",
   "nbconvert_exporter": "python",
   "pygments_lexer": "ipython3",
   "version": "3.9.1"
  }
 },
 "nbformat": 4,
 "nbformat_minor": 4
}
