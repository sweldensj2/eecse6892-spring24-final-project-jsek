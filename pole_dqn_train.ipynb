{
 "cells": [
  {
   "cell_type": "code",
   "execution_count": 1,
   "id": "7856b461-e203-4cd9-af6d-9ed7313fc0ce",
   "metadata": {},
   "outputs": [
    {
     "name": "stdout",
     "output_type": "stream",
     "text": [
      "zsh:1: parse error near `-m'\n",
      "zsh:1: parse error near `-m'\n",
      "zsh:1: parse error near `-m'\n",
      "zsh:1: parse error near `-m'\n",
      "zsh:1: parse error near `-m'\n"
     ]
    }
   ],
   "source": [
    "!{os.sys.executable} -m pip install gymnasium\n",
    "!{os.sys.executable} -m pip install Pillow\n",
    "!{os.sys.executable} -m pip install ipython\n",
    "!{os.sys.executable} -m pip install pygame\n",
    "!{os.sys.executable} -m pip install torchsummary"
   ]
  },
  {
   "cell_type": "code",
   "execution_count": 2,
   "id": "0d0428c8-4392-40b9-b718-dbd70f050795",
   "metadata": {},
   "outputs": [],
   "source": [
    "# Import useful packages\n",
    "\n",
    "import os\n",
    "import sys\n",
    "import gymnasium as gym\n",
    "import random\n",
    "import numpy as np\n",
    "\n",
    "import torch\n",
    "import torch.optim as optim\n",
    "import torch.nn.functional as F\n",
    "from torchsummary import summary\n",
    "\n",
    "from DQN_Model import DQN\n",
    "# from memory import Memory_DQN as Memory\n",
    "# from tensorboardX import SummaryWriter\n",
    "\n",
    "from collections import deque"
   ]
  },
  {
   "cell_type": "markdown",
   "id": "2b123673-94c5-4912-bfc7-45fa78020790",
   "metadata": {},
   "source": [
    "## Configuration "
   ]
  },
  {
   "cell_type": "code",
   "execution_count": 3,
   "id": "62256990-25eb-4742-9144-dffc10f80a63",
   "metadata": {},
   "outputs": [],
   "source": [
    "env_name = 'CartPole-v1'\n",
    "gamma = 0.99\n",
    "batch_size = 32\n",
    "lr = 0.0001\n",
    "initial_exploration = 1000\n",
    "goal_score = 200\n",
    "log_interval = 10\n",
    "update_target = 100\n",
    "replay_memory_capacity = 1000\n",
    "device = torch.device(\"cuda\" if torch.cuda.is_available() else \"cpu\")\n",
    "\n"
   ]
  },
  {
   "cell_type": "markdown",
   "id": "aa57b65a-9d6e-4fab-a22b-54f83d605b36",
   "metadata": {},
   "source": [
    "## Train Function"
   ]
  },
  {
   "cell_type": "code",
   "execution_count": 8,
   "id": "a25c4c30-7454-4797-b6e0-37a54ed2e3ba",
   "metadata": {},
   "outputs": [
    {
     "name": "stdout",
     "output_type": "stream",
     "text": [
      "state_size 4\n",
      "action_size 2\n",
      "----------------------------------------------------------------\n",
      "        Layer (type)               Output Shape         Param #\n",
      "================================================================\n",
      "            Linear-1              [-1, 32, 128]             640\n",
      "            Linear-2                [-1, 32, 2]             258\n",
      "================================================================\n",
      "Total params: 898\n",
      "Trainable params: 898\n",
      "Non-trainable params: 0\n",
      "----------------------------------------------------------------\n",
      "Input size (MB): 0.00\n",
      "Forward/backward pass size (MB): 0.03\n",
      "Params size (MB): 0.00\n",
      "Estimated Total Size (MB): 0.04\n",
      "----------------------------------------------------------------\n"
     ]
    }
   ],
   "source": [
    "env=gym.make(env_name)\n",
    "# env.seed(500)\n",
    "# torch.manual_seed(500)\n",
    "\n",
    "state_size = env.observation_space.low.size\n",
    "action_size = env.action_space.n\n",
    "\n",
    "print(\"state_size\", state_size)\n",
    "print(\"action_size\", action_size)\n",
    "\n",
    "online_net = DQN(state_size, action_size)\n",
    "target_net = DQN(state_size, action_size)\n",
    "\n",
    "summary(online_net, input_size = (batch_size, state_size))"
   ]
  },
  {
   "cell_type": "code",
   "execution_count": null,
   "id": "a60eeb46-7193-4164-a374-de8a3760f1de",
   "metadata": {},
   "outputs": [],
   "source": []
  }
 ],
 "metadata": {
  "kernelspec": {
   "display_name": "Python 3 (ipykernel)",
   "language": "python",
   "name": "python3"
  },
  "language_info": {
   "codemirror_mode": {
    "name": "ipython",
    "version": 3
   },
   "file_extension": ".py",
   "mimetype": "text/x-python",
   "name": "python",
   "nbconvert_exporter": "python",
   "pygments_lexer": "ipython3",
   "version": "3.11.7"
  }
 },
 "nbformat": 4,
 "nbformat_minor": 5
}
