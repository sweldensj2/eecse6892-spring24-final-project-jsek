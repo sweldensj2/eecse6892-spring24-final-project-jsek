{
 "cells": [
  {
   "cell_type": "code",
   "execution_count": 9,
   "metadata": {},
   "outputs": [],
   "source": [
    "import os\n",
    "# !{os.sys.executable} -m pip install gymnasium\n",
    "# !{os.sys.executable} -m pip install cmake \n",
    "# !{os.sys.executable} -m pip install ale-py\n",
    "# !{os.sys.executable} -m pip install atari-py\n",
    "# !{os.sys.executable} -m pip install Pillow\n",
    "# !{os.sys.executable} -m pip install ipython\n",
    "# !{os.sys.executable} -m pip install pygame\n",
    "# !{os.sys.executable} -m pip install tensorboardX\n",
    "# !{os.sys.executable} -m pip install \"gymnasium[atari, accept-rom-licesnse]\"\n",
    "# !{os.sys.executable} -m pip install \"autorom[accept-rom-license]\"\n",
    "# !{os.sys.executable} -m pip install torch\n",
    "# !{os.sys.executable} -m pip install torchvision"
   ]
  },
  {
   "cell_type": "code",
   "execution_count": 10,
   "metadata": {},
   "outputs": [],
   "source": [
    "# Import useful packages\n",
    "\n",
    "import os\n",
    "import sys\n",
    "import gymnasium as gym\n",
    "import random\n",
    "import numpy as np\n",
    "import time\n",
    "import matplotlib.pyplot as plt\n",
    "\n",
    "import torch\n",
    "import torch.optim as optim\n",
    "import torch.nn.functional as F\n",
    "import torchvision.transforms.functional as Fv\n",
    "import torchvision.transforms as transforms\n",
    "from torchinfo import summary\n",
    "\n",
    "from DTQN_Model import DTQN\n",
    "from tensorboardX import SummaryWriter\n",
    "\n",
    "from collections import namedtuple, deque\n"
   ]
  },
  {
   "cell_type": "code",
   "execution_count": 11,
   "metadata": {},
   "outputs": [
    {
     "name": "stdout",
     "output_type": "stream",
     "text": [
      "Device: cuda\n"
     ]
    }
   ],
   "source": [
    "env_name = \"ALE/Breakout-v5\" # atari\n",
    "\n",
    "CNN_mode = True # False for mlp, True for CNN\n",
    "\n",
    "gamma = 0.99\n",
    "batch_size = 32 # 32\n",
    "lr = 0.00001 #1lr = 0.0001\n",
    "initial_exploration = 10000 #1000\n",
    "goal_score = 200\n",
    "log_interval = 1 # 10\n",
    "update_target = 25 # 100\n",
    "replay_memory_capacity = 1000\n",
    "device = torch.device(\"cuda\" if torch.cuda.is_available() else \"cpu\")\n",
    "print(\"Device:\", device)\n",
    "\n",
    "env=gym.make(env_name)"
   ]
  },
  {
   "cell_type": "code",
   "execution_count": 12,
   "metadata": {},
   "outputs": [],
   "source": [
    "Transition = namedtuple(\n",
    "    'Transition', ('state', 'next_state', 'action', 'reward', 'mask')\n",
    ")\n",
    "\n",
    "class Memory_DTQN(object):\n",
    "    def __init__(self, capacity):\n",
    "        self.memory = deque(maxlen=capacity)\n",
    "        self.capacity = capacity\n",
    "\n",
    "    def push(self, state, next_state, action, reward, mask):\n",
    "        self.memory.append(Transition(state, next_state, action, reward, mask))\n",
    "    \n",
    "    def sample(self, batch_size):\n",
    "        transitions = random.sample(self.memory, batch_size)\n",
    "        batch = Transition(*zip(*transitions))\n",
    "        return batch\n",
    "    \n",
    "    def __len__(self):\n",
    "        return len(self.memory)"
   ]
  },
  {
   "cell_type": "code",
   "execution_count": 13,
   "metadata": {},
   "outputs": [],
   "source": [
    "def get_action(state, target_net, epsilon, env):\n",
    "    if np.random.rand() <= epsilon:\n",
    "        return env.action_space.sample() #random action\n",
    "    else:\n",
    "        return target_net.get_action(state)"
   ]
  },
  {
   "cell_type": "code",
   "execution_count": 14,
   "metadata": {},
   "outputs": [
    {
     "name": "stdout",
     "output_type": "stream",
     "text": [
      "state size: 100800\n",
      "action size: 4\n"
     ]
    },
    {
     "name": "stderr",
     "output_type": "stream",
     "text": [
      "c:\\Users\\evank\\AppData\\Local\\Programs\\Python\\Python39\\lib\\site-packages\\torch\\nn\\modules\\transformer.py:286: UserWarning: enable_nested_tensor is True, but self.use_nested_tensor is False because encoder_layer.self_attn.batch_first was not True(use batch_first for better inference performance)\n",
      "  warnings.warn(f\"enable_nested_tensor is True, but self.use_nested_tensor is False because {why_not_sparsity_fast_path}\")\n"
     ]
    },
    {
     "name": "stdout",
     "output_type": "stream",
     "text": [
      "===============================================================================================\n",
      "Layer (type:depth-idx)                        Output Shape              Param #\n",
      "===============================================================================================\n",
      "DTQN                                          [32, 4]                   281,152\n",
      "├─Linear: 1-1                                 [32, 64]                  6,451,264\n",
      "├─TransformerEncoder: 1-2                     [32, 64]                  --\n",
      "│    └─ModuleList: 2-1                        --                        --\n",
      "│    │    └─TransformerEncoderLayer: 3-1      [32, 64]                  281,152\n",
      "│    │    └─TransformerEncoderLayer: 3-2      [32, 64]                  281,152\n",
      "│    │    └─TransformerEncoderLayer: 3-3      [32, 64]                  281,152\n",
      "├─Linear: 1-3                                 [32, 32]                  2,080\n",
      "├─Linear: 1-4                                 [32, 4]                   132\n",
      "===============================================================================================\n",
      "Total params: 7,578,084\n",
      "Trainable params: 7,578,084\n",
      "Non-trainable params: 0\n",
      "Total mult-adds (M): 231.90\n",
      "===============================================================================================\n",
      "Input size (MB): 12.90\n",
      "Forward/backward pass size (MB): 1.75\n",
      "Params size (MB): 28.99\n",
      "Estimated Total Size (MB): 43.64\n",
      "===============================================================================================\n"
     ]
    }
   ],
   "source": [
    "env=gym.make(env_name)\n",
    "\n",
    "state_size = env.observation_space.low.size\n",
    "action_size = env.action_space.n\n",
    "\n",
    "print(\"state size:\", state_size)\n",
    "print(\"action size:\", action_size)\n",
    "\n",
    "online_net = DTQN(state_size, action_size).to(device)\n",
    "target_net = DTQN(state_size, action_size).to(device)\n",
    "\n",
    "online_net.train()\n",
    "target_net.train()\n",
    "writer = SummaryWriter('logs')\n",
    "\n",
    "print(summary(online_net, input_size=(batch_size, state_size))) \n",
    "\n",
    "optimizer = optim.Adam(online_net.parameters(), lr=lr)\n",
    "N_EPISODES = 50\n",
    "\n",
    "#initialize running variables\n",
    "running_score = 0\n",
    "epsilon = 1.0\n",
    "epsilon_decay_rate = 0.000005 #0.000005\n",
    "steps = 0\n",
    "loss = 0\n",
    "\n",
    "# initialize the memory bank\n",
    "memory = Memory_DTQN(replay_memory_capacity)\n",
    "\n",
    "# Before training\n",
    "loss_record = []\n",
    "scores_record = []\n",
    "best_score = float('-inf')  # Initialize best_score with negative infinity\n",
    "best_online_net_weights = None\n",
    "best_target_net_weights = None"
   ]
  },
  {
   "cell_type": "code",
   "execution_count": 15,
   "metadata": {},
   "outputs": [
    {
     "name": "stdout",
     "output_type": "stream",
     "text": [
      "49 episode | score: 1.78 | loss: 0.00000 | epsilon: 1.00"
     ]
    }
   ],
   "source": [
    "for episode in range(N_EPISODES):\n",
    "    done = False\n",
    "\n",
    "    score = 0\n",
    "    state = env.reset()[0]\n",
    "    state = torch.Tensor(state).to(device)\n",
    "\n",
    "    while not done:\n",
    "        steps += 1\n",
    "        action = get_action(state, target_net, epsilon, env)\n",
    "        \n",
    "        # next_state, reward, done, _, _ = env.step(action) # 5 outputs\n",
    "        next_state, reward, terminated, truncated,_ = env.step(action)\n",
    "        done = terminated or truncated\n",
    "        \n",
    "        next_state = torch.Tensor(next_state).to(device)\n",
    "\n",
    "        mask = 0 if done else 1 #don't know what this line does\n",
    "\n",
    "        # i assume this is the penalty function?\n",
    "        reward = reward if not done or score == 499 else -1\n",
    "\n",
    "        action_one_hot = np.zeros(action_size)\n",
    "        action_one_hot[action] = 1\n",
    "\n",
    "        # add to memory bank\n",
    "        memory.push(state, next_state, action_one_hot, reward, mask)\n",
    "\n",
    "        score += reward\n",
    "        state = next_state\n",
    "\n",
    "        if steps > initial_exploration:\n",
    "            epsilon -= epsilon_decay_rate\n",
    "            epsilon = max(epsilon, 0.01)\n",
    "\n",
    "            # process the batch\n",
    "            batch = memory.sample(batch_size)\n",
    "            # print(\"batch\", batch)\n",
    "            states = torch.stack(batch.state).to(device)\n",
    "            next_states = torch.stack(batch.next_state).to(device)\n",
    "            actions = torch.Tensor(batch.action).float().to(device)\n",
    "            rewards = torch.Tensor(batch.reward).to(device)\n",
    "            masks = torch.Tensor(batch.mask).to(device)\n",
    "\n",
    "            q_values = online_net(states).gather(1, actions.long())\n",
    "            next_q_values = target_net(next_states).max(1)[0].detach()\n",
    "\n",
    "            q_target  = rewards + gamma * next_q_values*masks\n",
    "            \n",
    "\n",
    "            \n",
    "            loss = F.mse_loss(q_values, q_target.unsqueeze(1))\n",
    "\n",
    "            optimizer.zero_grad()\n",
    "            loss.backward()\n",
    "            optimizer.step()\n",
    "\n",
    "            if steps % initial_exploration:\n",
    "                target_net.load_state_dict(online_net.state_dict())\n",
    "    score = score if score == 500.0 else score + 1\n",
    "    if running_score == 0:\n",
    "        running_score = score\n",
    "    else:\n",
    "        running_score = 0.99 * running_score + 0.01 * score\n",
    "\n",
    "    scores_record.append(running_score)\n",
    "    loss_record.append(loss)\n",
    "\n",
    "     # Update best_score and store best model weights in memory\n",
    "    if running_score > best_score:\n",
    "        best_score = running_score\n",
    "        best_online_net_weights = online_net.state_dict()\n",
    "        best_target_net_weights = target_net.state_dict()\n",
    "    \n",
    "    if episode % log_interval == 0:\n",
    "        print('\\r{} episode | score: {:.2f} | loss: {:.5f} | epsilon: {:.2f}'.format(\n",
    "            episode, running_score, loss, epsilon), end='')\n",
    "        writer.add_scalar('log/score', float(running_score), episode) # i don't know what this does\n",
    "        writer.add_scalar('log/loss', float(loss), episode)    \n",
    "\n",
    "    if running_score > goal_score:\n",
    "        break"
   ]
  },
  {
   "cell_type": "code",
   "execution_count": 16,
   "metadata": {},
   "outputs": [],
   "source": [
    "# Create the saved_models folder if it doesn't exist\n",
    "if not os.path.exists('saved_models/breakout_DTQN'):\n",
    "    os.makedirs('saved_models/breakout_DTQN')\n",
    "\n",
    "# Generate a unique train_number based on current timestamp\n",
    "train_number = time.strftime(\"%Y%m%d_%H%M%S\")\n",
    "train_folder = f'saved_models/breakout_DTQN/train_{train_number}'\n",
    "\n",
    "# Create the train_number subfolder inside saved_models\n",
    "if not os.path.exists(train_folder):\n",
    "    os.makedirs(train_folder)\n",
    "\n",
    "# Save the model to the train_number subfolder\n",
    "torch.save(online_net.state_dict(), f'{train_folder}/online_net.pth')\n",
    "torch.save(target_net.state_dict(), f'{train_folder}/target_net.pth')\n",
    "\n",
    "# Save the best model weights to the train_number subfolder\n",
    "torch.save(best_online_net_weights, f'{train_folder}/best_online_net.pth')\n",
    "torch.save(best_target_net_weights, f'{train_folder}/best_target_net.pth')"
   ]
  },
  {
   "cell_type": "code",
   "execution_count": 17,
   "metadata": {},
   "outputs": [
    {
     "data": {
      "image/png": "[encoded data removed]",
      "text/plain": [
       "<Figure size 1500x500 with 2 Axes>"
      ]
     },
     "metadata": {},
     "output_type": "display_data"
    }
   ],
   "source": [
    "def convert_to_ints(lst):\n",
    "    return [int(elem.item()) if torch.is_tensor(elem) else int(elem) for elem in lst]\n",
    "\n",
    "# Plotting the metrics\n",
    "plt.figure(figsize=(15, 5))\n",
    "\n",
    "# Plot Rewards\n",
    "plt.subplot(1, 2, 1)\n",
    "plt.plot(scores_record)\n",
    "plt.title('Episode Scores')\n",
    "plt.xlabel('Episodes')\n",
    "plt.ylabel('Scores')\n",
    "plt.grid(True)\n",
    "\n",
    "# Plot Losses (assuming you have a list of losses)\n",
    "plt.subplot(1, 2, 2)\n",
    "plt.plot(convert_to_ints(loss_record))\n",
    "plt.title('Episode Losses')\n",
    "plt.xlabel('Episode')\n",
    "plt.ylabel('Loss')\n",
    "plt.grid(True)\n",
    "\n",
    "# Save the plots to the train_number subfolder\n",
    "plt.savefig(f'{train_folder}/metrics_plot.png')\n",
    "\n",
    "plt.tight_layout()\n",
    "plt.show()"
   ]
  }
 ],
 "metadata": {
  "kernelspec": {
   "display_name": "Python 3",
   "language": "python",
   "name": "python3"
  },
  "language_info": {
   "codemirror_mode": {
    "name": "ipython",
    "version": 3
   },
   "file_extension": ".py",
   "mimetype": "text/x-python",
   "name": "python",
   "nbconvert_exporter": "python",
   "pygments_lexer": "ipython3",
   "version": "3.9.1"
  }
 },
 "nbformat": 4,
 "nbformat_minor": 2
}
