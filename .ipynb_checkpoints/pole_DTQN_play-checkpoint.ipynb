{
 "cells": [
  {
   "cell_type": "code",
   "execution_count": 1,
   "id": "63cd31fb",
   "metadata": {},
   "outputs": [],
   "source": [
    "# !{os.sys.executable} -m pip install gymnasium\n",
    "# !{os.sys.executable} -m pip install Pillow\n",
    "# !{os.sys.executable} -m pip install ipython\n",
    "# !{os.sys.executable} -m pip install pygame\n",
    "# !{os.sys.executable} -m pip install torchsummary\n",
    "# !{os.sys.executable} -m pip install tensorboardX"
   ]
  },
  {
   "cell_type": "code",
   "execution_count": 2,
   "id": "132ab0ac",
   "metadata": {},
   "outputs": [],
   "source": [
    "# Import useful packages\n",
    "\n",
    "import os\n",
    "import sys\n",
    "import gymnasium as gym\n",
    "import random\n",
    "import numpy as np\n",
    "\n",
    "import torch\n",
    "import torch.optim as optim\n",
    "import torch.nn.functional as F\n",
    "from torchinfo import summary\n",
    "\n",
    "from DTQN_Model import DTQN\n",
    "\n",
    "from tensorboardX import SummaryWriter\n",
    "\n",
    "from collections import namedtuple, deque"
   ]
  },
  {
   "cell_type": "code",
   "execution_count": 3,
   "id": "0270941b",
   "metadata": {},
   "outputs": [],
   "source": [
    "env_name = 'CartPole-v1'\n",
    "goal_score = 200\n",
    "device = torch.device(\"cuda\" if torch.cuda.is_available() else \"cpu\")"
   ]
  },
  {
   "cell_type": "code",
   "execution_count": 4,
   "id": "e7164e40",
   "metadata": {},
   "outputs": [],
   "source": [
    "import pygame\n",
    "from pygame.locals import QUIT\n",
    "\n",
    "# Initialize pygame\n",
    "pygame.init()\n",
    "def play_game_with_model(model_name, load_best = False):\n",
    "    # Initialize the environment\n",
    "    env = gym.make(env_name, render_mode=\"human\")\n",
    "    state = env.reset()[0]\n",
    "    done = False\n",
    "    \n",
    "    # Load the model\n",
    "    state_size = env.observation_space.low.size\n",
    "    action_size = env.action_space.n\n",
    "    loaded_online_net = DTQN(state_size, action_size).to(device)\n",
    "    if( not load_best):\n",
    "        loaded_online_net.load_state_dict(torch.load(f'saved_models/DTQN/{model_name}/online_net.pth', map_location=device))\n",
    "    else:\n",
    "        loaded_online_net.load_state_dict(torch.load(f'saved_models/DTQN/{model_name}/best_online_net.pth', map_location=device))\n",
    "    loaded_online_net.eval()  # Set the model to evaluation mode\n",
    "\n",
    "\n",
    "    # Initialize the display\n",
    "    screen = pygame.display.set_mode((600, 400))\n",
    "    pygame.display.set_caption(\"CartPole with DTQN\")\n",
    "    clock = pygame.time.Clock()\n",
    "\n",
    "    while not done:\n",
    "        for event in pygame.event.get():\n",
    "            if event.type == QUIT:\n",
    "                print(\"Quit\")\n",
    "                pygame.quit()\n",
    "                done = True\n",
    "                return\n",
    "\n",
    "        # Preprocess the state\n",
    "        state_tensor = torch.Tensor(state).to(device)\n",
    "        action = loaded_online_net.get_action(state_tensor)\n",
    "        \n",
    "        # Take the action in the environment\n",
    "        # next_state, reward, done, _, _ = env.step(action)\n",
    "        next_state, reward, terminated, truncated,_ = env.step(action)\n",
    "        done = terminated or truncated\n",
    "#         print(\"done\", done)\n",
    "        if done:\n",
    "            state = env.reset()[0]\n",
    "        else:\n",
    "            state = next_state\n",
    "        done = False\n",
    "\n",
    "        # Render the environment\n",
    "        env.render()\n",
    "        \n",
    "        # Limit the frame rate\n",
    "        clock.tick(60)\n",
    "\n",
    "    env.close()\n",
    "    pygame.quit()"
   ]
  },
  {
   "cell_type": "code",
   "execution_count": 5,
   "id": "d818dbb7",
   "metadata": {},
   "outputs": [
    {
     "name": "stderr",
     "output_type": "stream",
     "text": [
      "/opt/anaconda3/lib/python3.11/site-packages/torch/nn/modules/transformer.py:286: UserWarning: enable_nested_tensor is True, but self.use_nested_tensor is False because encoder_layer.self_attn.batch_first was not True(use batch_first for better inference performance)\n",
      "  warnings.warn(f\"enable_nested_tensor is True, but self.use_nested_tensor is False because {why_not_sparsity_fast_path}\")\n",
      "\n",
      "KeyboardInterrupt\n",
      "\n"
     ]
    }
   ],
   "source": [
    "play_game_with_model('train_20240430_133324', load_best = False)"
   ]
  }
 ],
 "metadata": {
  "kernelspec": {
   "display_name": "Python 3 (ipykernel)",
   "language": "python",
   "name": "python3"
  },
  "language_info": {
   "codemirror_mode": {
    "name": "ipython",
    "version": 3
   },
   "file_extension": ".py",
   "mimetype": "text/x-python",
   "name": "python",
   "nbconvert_exporter": "python",
   "pygments_lexer": "ipython3",
   "version": "3.11.7"
  }
 },
 "nbformat": 4,
 "nbformat_minor": 5
}
