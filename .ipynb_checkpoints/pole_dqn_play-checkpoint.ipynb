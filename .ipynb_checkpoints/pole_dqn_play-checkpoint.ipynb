{
 "cells": [
  {
   "cell_type": "code",
   "execution_count": 1,
   "id": "017fdf75-5a5c-4163-b5c6-f5cae1d3db0a",
   "metadata": {},
   "outputs": [],
   "source": [
    "# !{os.sys.executable} -m pip install gymnasium\n",
    "# !{os.sys.executable} -m pip install Pillow\n",
    "# !{os.sys.executable} -m pip install ipython\n",
    "# !{os.sys.executable} -m pip install pygame\n",
    "# !{os.sys.executable} -m pip install torchsummary\n",
    "# !{os.sys.executable} -m pip install tensorboardX"
   ]
  },
  {
   "cell_type": "code",
   "execution_count": 2,
   "id": "801685bc-4e0f-46b9-bdb7-3e78707745d9",
   "metadata": {},
   "outputs": [],
   "source": [
    "# Import useful packages\n",
    "\n",
    "import os\n",
    "import sys\n",
    "import gymnasium as gym\n",
    "import random\n",
    "import numpy as np\n",
    "\n",
    "import torch\n",
    "import torch.optim as optim\n",
    "import torch.nn.functional as F\n",
    "from torchsummary import summary\n",
    "\n",
    "from DQN_Model import DQN\n",
    "from DQN_Model_improved import DQN_improved\n",
    "from tensorboardX import SummaryWriter\n",
    "\n",
    "from collections import namedtuple, deque"
   ]
  },
  {
   "cell_type": "code",
   "execution_count": 3,
   "id": "9d55cfb7-2332-4743-8085-712a5d359208",
   "metadata": {},
   "outputs": [],
   "source": [
    "import pygame\n",
    "from pygame.locals import QUIT\n",
    "\n",
    "# Initialize pygame\n",
    "pygame.init()\n",
    "\n",
    "def play_game_with_model(model_name, load_best = False):\n",
    "    # Initialize the environment\n",
    "    env = gym.make(env_name, render_mode=\"human\")\n",
    "    state = env.reset()[0]\n",
    "    done = False\n",
    "    \n",
    "    # Load the model\n",
    "    state_size = env.observation_space.low.size\n",
    "    action_size = env.action_space.n\n",
    "    loaded_online_net = DQN(state_size, action_size).to(device)\n",
    "    if( not load_best):\n",
    "        loaded_online_net.load_state_dict(torch.load(f'saved_models/pole_DQN/{model_name}/online_net.pth'))\n",
    "    else:\n",
    "        loaded_online_net.load_state_dict(torch.load(f'saved_models/pole_DQN/{model_name}/best_online_net.pth'))\n",
    "    loaded_online_net.eval()  # Set the model to evaluation mode\n",
    "\n",
    "\n",
    "    # Initialize the display\n",
    "    screen = pygame.display.set_mode((600, 400))\n",
    "    pygame.display.set_caption(\"CartPole with DQN\")\n",
    "    clock = pygame.time.Clock()\n",
    "\n",
    "    while not done:\n",
    "        for event in pygame.event.get():\n",
    "            if event.type == QUIT:\n",
    "                print(\"Quit\")\n",
    "                pygame.quit()\n",
    "                done = True\n",
    "                return\n",
    "\n",
    "        # Preprocess the state\n",
    "        state_tensor = torch.Tensor(state).to(device)\n",
    "        action = loaded_online_net.get_action(state_tensor)\n",
    "        \n",
    "        # Take the action in the environment\n",
    "        # next_state, reward, done, _, _ = env.step(action)\n",
    "        next_state, reward, terminated, truncated,_ = env.step(action)\n",
    "        done = terminated or truncated\n",
    "        # print(\"done\", done)\n",
    "        if done:\n",
    "            state = env.reset()[0]\n",
    "        else:\n",
    "            state = next_state\n",
    "        done = False\n",
    "\n",
    "        # Render the environment\n",
    "        env.render()\n",
    "        \n",
    "        # Limit the frame rate\n",
    "        clock.tick(60)\n",
    "\n",
    "    env.close()\n",
    "    pygame.quit()\n",
    "\n",
    "\n"
   ]
  },
  {
   "cell_type": "markdown",
   "id": "88c3357b-0e8c-4bb6-a6c1-e165d0de3a98",
   "metadata": {},
   "source": [
    "# Configuration"
   ]
  },
  {
   "cell_type": "code",
   "execution_count": 4,
   "id": "31815f01-18df-4292-97c5-74799f158127",
   "metadata": {},
   "outputs": [],
   "source": [
    "env_name = 'CartPole-v1'\n",
    "goal_score = 200\n",
    "device = torch.device(\"cuda\" if torch.cuda.is_available() else \"cpu\")\n",
    "\n"
   ]
  },
  {
   "cell_type": "markdown",
   "id": "855e718e-35d3-4013-a7ff-da1236108f06",
   "metadata": {},
   "source": [
    "# Play the game"
   ]
  },
  {
   "cell_type": "code",
   "execution_count": 5,
   "id": "acfaeff0-32cf-47f7-a8f3-fd5f37228a89",
   "metadata": {},
   "outputs": [
    {
     "name": "stdout",
     "output_type": "stream",
     "text": [
      "Quit\n"
     ]
    }
   ],
   "source": [
    "# Test the function\n",
    "# play_game_with_model('train_10000e_2xep', load_best = False)\n",
    "# play_game_with_model('train_20000e_.5xep', load_best = True) # Trash\n",
    "# play_game_with_model('train_10000e_2xp_5lr', load_best = True) # trash\n",
    "# play_game_with_model('train_best', load_best = False) #okay \n",
    "play_game_with_model('train_10000e', load_best = False) # Great, Stands still\n",
    "# play_game_with_model('train_20000e', load_best = False) # Terrible\n",
    "# play_game_with_model('train_15000e', load_best = False) # not great\n",
    "# play_game_with_model('train_15000e', load_best = True) # Terrible\n",
    "# play_game_with_model('train_10000e_1xep', load_best = False) # okay\n",
    "# play_game_with_model('train_10000e_1xep', load_best = True) # Okay\n",
    "# play_game_with_model('train_100000e_1xep_1lr', load_best = True) # Trash for both\n",
    "\n",
    "# play_game_with_model('train_DQN_paper_parameters', load_best = True) # Great, Stands still\n",
    "\n",
    "\n",
    "\n",
    "\n"
   ]
  },
  {
   "cell_type": "code",
   "execution_count": null,
   "id": "7a390f8f-1aad-4a46-9efb-549865f87fda",
   "metadata": {},
   "outputs": [],
   "source": []
  }
 ],
 "metadata": {
  "kernelspec": {
   "display_name": "Python 3 (ipykernel)",
   "language": "python",
   "name": "python3"
  },
  "language_info": {
   "codemirror_mode": {
    "name": "ipython",
    "version": 3
   },
   "file_extension": ".py",
   "mimetype": "text/x-python",
   "name": "python",
   "nbconvert_exporter": "python",
   "pygments_lexer": "ipython3",
   "version": "3.11.7"
  }
 },
 "nbformat": 4,
 "nbformat_minor": 5
}
