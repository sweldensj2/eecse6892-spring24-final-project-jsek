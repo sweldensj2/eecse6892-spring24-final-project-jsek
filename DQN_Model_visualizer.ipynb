{
 "cells": [
  {
   "cell_type": "code",
   "execution_count": 1,
   "id": "40ddc2b2-258b-44c3-801c-64a0f12bebef",
   "metadata": {},
   "outputs": [
    {
     "name": "stdout",
     "output_type": "stream",
     "text": [
      "zsh:1: command not found: brew\n"
     ]
    }
   ],
   "source": [
    "import os\n",
    "# !{os.sys.executable} -m pip install gymnasium\n",
    "# !{os.sys.executable} -m pip install Pillow\n",
    "# !{os.sys.executable} -m pip install ipython\n",
    "# !{os.sys.executable} -m pip install pygame\n",
    "# !{os.sys.executable} -m pip install torchsummary\n",
    "# !{os.sys.executable} -m pip install tensorboardX\n",
    "# !{os.sys.executable} -m pip install torchviz\n",
    "# !conda install graphviz\n"
   ]
  },
  {
   "cell_type": "code",
   "execution_count": 2,
   "id": "58e205ab-b72b-4aac-b68a-529e5fe33018",
   "metadata": {},
   "outputs": [
    {
     "data": {
      "text/plain": [
       "'DQN_network_visualization.pdf'"
      ]
     },
     "execution_count": 2,
     "metadata": {},
     "output_type": "execute_result"
    }
   ],
   "source": [
    "import torch\n",
    "import torch.nn as nn\n",
    "import torch.nn.functional as F\n",
    "from torchviz import make_dot\n",
    "from DQN_Model import DQN\n",
    "\n",
    "# Define the input and output dimensions\n",
    "num_inputs = 4  # Example input size\n",
    "num_outputs = 2  # Example output size\n",
    "\n",
    "# Initialize the model\n",
    "model = DQN(num_inputs, num_outputs)\n",
    "\n",
    "# Create a dummy input tensor for visualization\n",
    "dummy_input = torch.randn(1, num_inputs)\n",
    "\n",
    "# Forward pass to generate a graph\n",
    "output = model(dummy_input)\n",
    "graph = make_dot(output, params=dict(model.named_parameters()))\n",
    "\n",
    "# Save the visualization as a PDF file\n",
    "graph.render(\"DQN_network_visualization\", format=\"pdf\")\n"
   ]
  },
  {
   "cell_type": "code",
   "execution_count": null,
   "id": "8006fd7d-2e66-4bf7-824b-fce188c2ca9a",
   "metadata": {},
   "outputs": [],
   "source": []
  }
 ],
 "metadata": {
  "kernelspec": {
   "display_name": "Python 3 (ipykernel)",
   "language": "python",
   "name": "python3"
  },
  "language_info": {
   "codemirror_mode": {
    "name": "ipython",
    "version": 3
   },
   "file_extension": ".py",
   "mimetype": "text/x-python",
   "name": "python",
   "nbconvert_exporter": "python",
   "pygments_lexer": "ipython3",
   "version": "3.11.7"
  }
 },
 "nbformat": 4,
 "nbformat_minor": 5
}
